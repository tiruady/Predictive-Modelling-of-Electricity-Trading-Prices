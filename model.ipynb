{
  "nbformat": 4,
  "nbformat_minor": 0,
  "metadata": {
    "colab": {
      "name": "model.ipynb",
      "provenance": [],
      "collapsed_sections": []
    },
    "kernelspec": {
      "name": "python3",
      "display_name": "Python 3"
    }
  },
  "cells": [
    {
      "cell_type": "code",
      "metadata": {
        "id": "gyZJsbKZXjY9",
        "colab_type": "code",
        "colab": {}
      },
      "source": [
        "import numpy as np\n",
        "import pandas as pd "
      ],
      "execution_count": 0,
      "outputs": []
    },
    {
      "cell_type": "code",
      "metadata": {
        "id": "6STH3I1aYIs4",
        "colab_type": "code",
        "colab": {}
      },
      "source": [
        "from matplotlib import pyplot as plt"
      ],
      "execution_count": 0,
      "outputs": []
    },
    {
      "cell_type": "code",
      "metadata": {
        "id": "OYoN0PJuZAQ4",
        "colab_type": "code",
        "colab": {}
      },
      "source": [
        "df=pd.read_csv(\"/content/dataset_merged.csv\")"
      ],
      "execution_count": 0,
      "outputs": []
    },
    {
      "cell_type": "code",
      "metadata": {
        "id": "IBtB1IyaZOpl",
        "colab_type": "code",
        "outputId": "64ea8301-846e-409e-a19d-aac27352b9f1",
        "colab": {
          "base_uri": "https://localhost:8080/",
          "height": 34
        }
      },
      "source": [
        "df.shape"
      ],
      "execution_count": 0,
      "outputs": [
        {
          "output_type": "execute_result",
          "data": {
            "text/plain": [
              "(3314, 28)"
            ]
          },
          "metadata": {
            "tags": []
          },
          "execution_count": 6
        }
      ]
    },
    {
      "cell_type": "code",
      "metadata": {
        "id": "kN8wgjSZZQpf",
        "colab_type": "code",
        "outputId": "c5b9b296-ec0f-4756-ed84-982f09f9a050",
        "colab": {
          "base_uri": "https://localhost:8080/",
          "height": 134
        }
      },
      "source": [
        "df.columns"
      ],
      "execution_count": 0,
      "outputs": [
        {
          "output_type": "execute_result",
          "data": {
            "text/plain": [
              "Index(['Unnamed: 0', 'Price Hub', 'Trade Date', 'Delivery Start Date',\n",
              "       'Delivery End Date', 'High Price $/MWh', 'Low Price $/MWh',\n",
              "       'Wtd Avg Price $/MWh', 'Change', 'Daily Volume MWh', 'Number of Trades',\n",
              "       'Number of Companies', 'date_x', 'DNI', 'Temperature', 'DHI',\n",
              "       'Pressure', 'Relative Humidity', 'Wind Speed', 'date_y', 'Date_x',\n",
              "       'Date_y', 'Open', 'High', 'Low', 'Close', 'Adj Close', 'Volume'],\n",
              "      dtype='object')"
            ]
          },
          "metadata": {
            "tags": []
          },
          "execution_count": 7
        }
      ]
    },
    {
      "cell_type": "code",
      "metadata": {
        "id": "ExZBw-yIbLLS",
        "colab_type": "code",
        "outputId": "6f2b2965-2fe5-4705-ff75-45296f6f2138",
        "colab": {
          "base_uri": "https://localhost:8080/",
          "height": 504
        }
      },
      "source": [
        "df.dtypes"
      ],
      "execution_count": 0,
      "outputs": [
        {
          "output_type": "execute_result",
          "data": {
            "text/plain": [
              "Unnamed: 0               int64\n",
              "Price Hub               object\n",
              "Trade Date              object\n",
              "Delivery Start Date     object\n",
              "Delivery End Date       object\n",
              "High Price $/MWh       float64\n",
              "Low Price $/MWh        float64\n",
              "Wtd Avg Price $/MWh    float64\n",
              "Change                 float64\n",
              "Daily Volume MWh         int64\n",
              "Number of Trades         int64\n",
              "Number of Companies      int64\n",
              "date_x                  object\n",
              "DNI                    float64\n",
              "Temperature            float64\n",
              "DHI                    float64\n",
              "Pressure               float64\n",
              "Relative Humidity      float64\n",
              "Wind Speed             float64\n",
              "date_y                  object\n",
              "Date_x                  object\n",
              "Date_y                  object\n",
              "Open                   float64\n",
              "High                   float64\n",
              "Low                    float64\n",
              "Close                  float64\n",
              "Adj Close              float64\n",
              "Volume                 float64\n",
              "dtype: object"
            ]
          },
          "metadata": {
            "tags": []
          },
          "execution_count": 29
        }
      ]
    },
    {
      "cell_type": "code",
      "metadata": {
        "id": "L4g70gm5ZTLU",
        "colab_type": "code",
        "outputId": "549b0810-677d-458f-9ecc-62959419e399",
        "colab": {
          "base_uri": "https://localhost:8080/",
          "height": 350
        }
      },
      "source": [
        "df.head()"
      ],
      "execution_count": 0,
      "outputs": [
        {
          "output_type": "execute_result",
          "data": {
            "text/html": [
              "<div>\n",
              "<style scoped>\n",
              "    .dataframe tbody tr th:only-of-type {\n",
              "        vertical-align: middle;\n",
              "    }\n",
              "\n",
              "    .dataframe tbody tr th {\n",
              "        vertical-align: top;\n",
              "    }\n",
              "\n",
              "    .dataframe thead th {\n",
              "        text-align: right;\n",
              "    }\n",
              "</style>\n",
              "<table border=\"1\" class=\"dataframe\">\n",
              "  <thead>\n",
              "    <tr style=\"text-align: right;\">\n",
              "      <th></th>\n",
              "      <th>Unnamed: 0</th>\n",
              "      <th>Price Hub</th>\n",
              "      <th>Trade Date</th>\n",
              "      <th>Delivery Start Date</th>\n",
              "      <th>Delivery End Date</th>\n",
              "      <th>High Price $/MWh</th>\n",
              "      <th>Low Price $/MWh</th>\n",
              "      <th>Wtd Avg Price $/MWh</th>\n",
              "      <th>Change</th>\n",
              "      <th>Daily Volume MWh</th>\n",
              "      <th>Number of Trades</th>\n",
              "      <th>Number of Companies</th>\n",
              "      <th>DNI</th>\n",
              "      <th>Temperature</th>\n",
              "      <th>DHI</th>\n",
              "      <th>Pressure</th>\n",
              "      <th>Relative Humidity</th>\n",
              "      <th>Wind Speed</th>\n",
              "      <th>Open</th>\n",
              "      <th>High</th>\n",
              "      <th>Low</th>\n",
              "      <th>Close</th>\n",
              "      <th>Adj Close</th>\n",
              "      <th>Volume</th>\n",
              "    </tr>\n",
              "  </thead>\n",
              "  <tbody>\n",
              "    <tr>\n",
              "      <th>0</th>\n",
              "      <td>0</td>\n",
              "      <td>PJM West</td>\n",
              "      <td>2001-01-02</td>\n",
              "      <td>2001-01-03</td>\n",
              "      <td>2001-01-03</td>\n",
              "      <td>65.5</td>\n",
              "      <td>64.5</td>\n",
              "      <td>65.00</td>\n",
              "      <td>NaN</td>\n",
              "      <td>1600</td>\n",
              "      <td>2</td>\n",
              "      <td>2</td>\n",
              "      <td>68797.394129</td>\n",
              "      <td>-2032.755534</td>\n",
              "      <td>10899.537536</td>\n",
              "      <td>333825.486044</td>\n",
              "      <td>24807.885149</td>\n",
              "      <td>908.896006</td>\n",
              "      <td>1320.280029</td>\n",
              "      <td>1320.280029</td>\n",
              "      <td>1276.050049</td>\n",
              "      <td>1283.270020</td>\n",
              "      <td>1283.270020</td>\n",
              "      <td>1.129400e+09</td>\n",
              "    </tr>\n",
              "    <tr>\n",
              "      <th>1</th>\n",
              "      <td>1</td>\n",
              "      <td>PJM West</td>\n",
              "      <td>2001-01-03</td>\n",
              "      <td>2001-01-04</td>\n",
              "      <td>2001-01-04</td>\n",
              "      <td>63.0</td>\n",
              "      <td>59.5</td>\n",
              "      <td>61.25</td>\n",
              "      <td>-3.75</td>\n",
              "      <td>3200</td>\n",
              "      <td>4</td>\n",
              "      <td>2</td>\n",
              "      <td>68287.310395</td>\n",
              "      <td>-1686.358518</td>\n",
              "      <td>9436.261309</td>\n",
              "      <td>331530.197305</td>\n",
              "      <td>25660.590828</td>\n",
              "      <td>911.679211</td>\n",
              "      <td>1283.270020</td>\n",
              "      <td>1347.760010</td>\n",
              "      <td>1274.619995</td>\n",
              "      <td>1347.560059</td>\n",
              "      <td>1347.560059</td>\n",
              "      <td>1.880700e+09</td>\n",
              "    </tr>\n",
              "    <tr>\n",
              "      <th>2</th>\n",
              "      <td>2</td>\n",
              "      <td>PJM West</td>\n",
              "      <td>2001-01-04</td>\n",
              "      <td>2001-01-05</td>\n",
              "      <td>2001-01-05</td>\n",
              "      <td>60.0</td>\n",
              "      <td>58.5</td>\n",
              "      <td>59.12</td>\n",
              "      <td>-2.13</td>\n",
              "      <td>4800</td>\n",
              "      <td>6</td>\n",
              "      <td>4</td>\n",
              "      <td>42744.555823</td>\n",
              "      <td>-1077.961501</td>\n",
              "      <td>12108.243022</td>\n",
              "      <td>329297.608277</td>\n",
              "      <td>26548.007320</td>\n",
              "      <td>839.573580</td>\n",
              "      <td>1347.560059</td>\n",
              "      <td>1350.239990</td>\n",
              "      <td>1329.140015</td>\n",
              "      <td>1333.339966</td>\n",
              "      <td>1333.339966</td>\n",
              "      <td>2.131000e+09</td>\n",
              "    </tr>\n",
              "    <tr>\n",
              "      <th>3</th>\n",
              "      <td>3</td>\n",
              "      <td>PJM West</td>\n",
              "      <td>2001-01-08</td>\n",
              "      <td>2001-01-09</td>\n",
              "      <td>2001-01-09</td>\n",
              "      <td>59.5</td>\n",
              "      <td>59.5</td>\n",
              "      <td>59.50</td>\n",
              "      <td>0.38</td>\n",
              "      <td>800</td>\n",
              "      <td>1</td>\n",
              "      <td>2</td>\n",
              "      <td>23221.851299</td>\n",
              "      <td>-683.114533</td>\n",
              "      <td>13144.172281</td>\n",
              "      <td>327948.291627</td>\n",
              "      <td>30604.138980</td>\n",
              "      <td>537.587199</td>\n",
              "      <td>1298.349976</td>\n",
              "      <td>1298.349976</td>\n",
              "      <td>1276.290039</td>\n",
              "      <td>1295.859985</td>\n",
              "      <td>1295.859985</td>\n",
              "      <td>1.115500e+09</td>\n",
              "    </tr>\n",
              "    <tr>\n",
              "      <th>4</th>\n",
              "      <td>4</td>\n",
              "      <td>PJM West</td>\n",
              "      <td>2001-01-09</td>\n",
              "      <td>2001-01-10</td>\n",
              "      <td>2001-01-10</td>\n",
              "      <td>58.0</td>\n",
              "      <td>55.5</td>\n",
              "      <td>56.61</td>\n",
              "      <td>-2.89</td>\n",
              "      <td>5600</td>\n",
              "      <td>7</td>\n",
              "      <td>6</td>\n",
              "      <td>74552.056304</td>\n",
              "      <td>-1418.512031</td>\n",
              "      <td>10884.741097</td>\n",
              "      <td>329242.584216</td>\n",
              "      <td>24703.976372</td>\n",
              "      <td>1128.615640</td>\n",
              "      <td>1295.859985</td>\n",
              "      <td>1311.719971</td>\n",
              "      <td>1295.140015</td>\n",
              "      <td>1300.800049</td>\n",
              "      <td>1300.800049</td>\n",
              "      <td>1.191300e+09</td>\n",
              "    </tr>\n",
              "  </tbody>\n",
              "</table>\n",
              "</div>"
            ],
            "text/plain": [
              "   Unnamed: 0 Price Hub  Trade Date  ...        Close    Adj Close        Volume\n",
              "0           0  PJM West  2001-01-02  ...  1283.270020  1283.270020  1.129400e+09\n",
              "1           1  PJM West  2001-01-03  ...  1347.560059  1347.560059  1.880700e+09\n",
              "2           2  PJM West  2001-01-04  ...  1333.339966  1333.339966  2.131000e+09\n",
              "3           3  PJM West  2001-01-08  ...  1295.859985  1295.859985  1.115500e+09\n",
              "4           4  PJM West  2001-01-09  ...  1300.800049  1300.800049  1.191300e+09\n",
              "\n",
              "[5 rows x 24 columns]"
            ]
          },
          "metadata": {
            "tags": []
          },
          "execution_count": 38
        }
      ]
    },
    {
      "cell_type": "code",
      "metadata": {
        "id": "UEtF3Vy7fsGE",
        "colab_type": "code",
        "outputId": "19e9064b-7047-4bd2-95f7-fde694f44479",
        "colab": {
          "base_uri": "https://localhost:8080/",
          "height": 437
        }
      },
      "source": [
        "df.dtypes"
      ],
      "execution_count": 0,
      "outputs": [
        {
          "output_type": "execute_result",
          "data": {
            "text/plain": [
              "Unnamed: 0               int64\n",
              "Price Hub               object\n",
              "Trade Date              object\n",
              "Delivery Start Date     object\n",
              "Delivery End Date       object\n",
              "High Price $/MWh       float64\n",
              "Low Price $/MWh        float64\n",
              "Wtd Avg Price $/MWh    float64\n",
              "Change                 float64\n",
              "Daily Volume MWh         int64\n",
              "Number of Trades         int64\n",
              "Number of Companies      int64\n",
              "DNI                    float64\n",
              "Temperature            float64\n",
              "DHI                    float64\n",
              "Pressure               float64\n",
              "Relative Humidity      float64\n",
              "Wind Speed             float64\n",
              "Open                   float64\n",
              "High                   float64\n",
              "Low                    float64\n",
              "Close                  float64\n",
              "Adj Close              float64\n",
              "Volume                 float64\n",
              "dtype: object"
            ]
          },
          "metadata": {
            "tags": []
          },
          "execution_count": 48
        }
      ]
    },
    {
      "cell_type": "code",
      "metadata": {
        "id": "xhTVcVeAcEwM",
        "colab_type": "code",
        "colab": {}
      },
      "source": [
        "df=df.drop(['date_y','Date_x','Date_y','date_x'],axis=1)"
      ],
      "execution_count": 0,
      "outputs": []
    },
    {
      "cell_type": "code",
      "metadata": {
        "id": "aOLXUFCvf0EO",
        "colab_type": "code",
        "colab": {}
      },
      "source": [
        "df_lstm=df.drop(['Price Hub','Delivery Start Date','Delivery End Date'],axis=1)"
      ],
      "execution_count": 0,
      "outputs": []
    },
    {
      "cell_type": "code",
      "metadata": {
        "id": "R-5Zv1T_gFCW",
        "colab_type": "code",
        "outputId": "e4ccd162-2700-4b95-ab5c-fcd24a1bc67e",
        "colab": {
          "base_uri": "https://localhost:8080/",
          "height": 350
        }
      },
      "source": [
        "df_lstm.head()"
      ],
      "execution_count": 0,
      "outputs": [
        {
          "output_type": "execute_result",
          "data": {
            "text/html": [
              "<div>\n",
              "<style scoped>\n",
              "    .dataframe tbody tr th:only-of-type {\n",
              "        vertical-align: middle;\n",
              "    }\n",
              "\n",
              "    .dataframe tbody tr th {\n",
              "        vertical-align: top;\n",
              "    }\n",
              "\n",
              "    .dataframe thead th {\n",
              "        text-align: right;\n",
              "    }\n",
              "</style>\n",
              "<table border=\"1\" class=\"dataframe\">\n",
              "  <thead>\n",
              "    <tr style=\"text-align: right;\">\n",
              "      <th></th>\n",
              "      <th>Unnamed: 0</th>\n",
              "      <th>Trade Date</th>\n",
              "      <th>High Price $/MWh</th>\n",
              "      <th>Low Price $/MWh</th>\n",
              "      <th>Wtd Avg Price $/MWh</th>\n",
              "      <th>Change</th>\n",
              "      <th>Daily Volume MWh</th>\n",
              "      <th>Number of Trades</th>\n",
              "      <th>Number of Companies</th>\n",
              "      <th>DNI</th>\n",
              "      <th>Temperature</th>\n",
              "      <th>DHI</th>\n",
              "      <th>Pressure</th>\n",
              "      <th>Relative Humidity</th>\n",
              "      <th>Wind Speed</th>\n",
              "      <th>Open</th>\n",
              "      <th>High</th>\n",
              "      <th>Low</th>\n",
              "      <th>Close</th>\n",
              "      <th>Adj Close</th>\n",
              "      <th>Volume</th>\n",
              "    </tr>\n",
              "  </thead>\n",
              "  <tbody>\n",
              "    <tr>\n",
              "      <th>0</th>\n",
              "      <td>0</td>\n",
              "      <td>2001-01-02</td>\n",
              "      <td>65.5000</td>\n",
              "      <td>64.5000</td>\n",
              "      <td>65.0000</td>\n",
              "      <td>nan</td>\n",
              "      <td>1600</td>\n",
              "      <td>2</td>\n",
              "      <td>2</td>\n",
              "      <td>68797.3941</td>\n",
              "      <td>-2032.7555</td>\n",
              "      <td>10899.5375</td>\n",
              "      <td>333825.4860</td>\n",
              "      <td>24807.8851</td>\n",
              "      <td>908.8960</td>\n",
              "      <td>1320.2800</td>\n",
              "      <td>1320.2800</td>\n",
              "      <td>1276.0500</td>\n",
              "      <td>1283.2700</td>\n",
              "      <td>1283.2700</td>\n",
              "      <td>1129400000.0000</td>\n",
              "    </tr>\n",
              "    <tr>\n",
              "      <th>1</th>\n",
              "      <td>1</td>\n",
              "      <td>2001-01-03</td>\n",
              "      <td>63.0000</td>\n",
              "      <td>59.5000</td>\n",
              "      <td>61.2500</td>\n",
              "      <td>-3.7500</td>\n",
              "      <td>3200</td>\n",
              "      <td>4</td>\n",
              "      <td>2</td>\n",
              "      <td>68287.3104</td>\n",
              "      <td>-1686.3585</td>\n",
              "      <td>9436.2613</td>\n",
              "      <td>331530.1973</td>\n",
              "      <td>25660.5908</td>\n",
              "      <td>911.6792</td>\n",
              "      <td>1283.2700</td>\n",
              "      <td>1347.7600</td>\n",
              "      <td>1274.6200</td>\n",
              "      <td>1347.5601</td>\n",
              "      <td>1347.5601</td>\n",
              "      <td>1880700000.0000</td>\n",
              "    </tr>\n",
              "    <tr>\n",
              "      <th>2</th>\n",
              "      <td>2</td>\n",
              "      <td>2001-01-04</td>\n",
              "      <td>60.0000</td>\n",
              "      <td>58.5000</td>\n",
              "      <td>59.1200</td>\n",
              "      <td>-2.1300</td>\n",
              "      <td>4800</td>\n",
              "      <td>6</td>\n",
              "      <td>4</td>\n",
              "      <td>42744.5558</td>\n",
              "      <td>-1077.9615</td>\n",
              "      <td>12108.2430</td>\n",
              "      <td>329297.6083</td>\n",
              "      <td>26548.0073</td>\n",
              "      <td>839.5736</td>\n",
              "      <td>1347.5601</td>\n",
              "      <td>1350.2400</td>\n",
              "      <td>1329.1400</td>\n",
              "      <td>1333.3400</td>\n",
              "      <td>1333.3400</td>\n",
              "      <td>2131000000.0000</td>\n",
              "    </tr>\n",
              "    <tr>\n",
              "      <th>3</th>\n",
              "      <td>3</td>\n",
              "      <td>2001-01-08</td>\n",
              "      <td>59.5000</td>\n",
              "      <td>59.5000</td>\n",
              "      <td>59.5000</td>\n",
              "      <td>0.3800</td>\n",
              "      <td>800</td>\n",
              "      <td>1</td>\n",
              "      <td>2</td>\n",
              "      <td>23221.8513</td>\n",
              "      <td>-683.1145</td>\n",
              "      <td>13144.1723</td>\n",
              "      <td>327948.2916</td>\n",
              "      <td>30604.1390</td>\n",
              "      <td>537.5872</td>\n",
              "      <td>1298.3500</td>\n",
              "      <td>1298.3500</td>\n",
              "      <td>1276.2900</td>\n",
              "      <td>1295.8600</td>\n",
              "      <td>1295.8600</td>\n",
              "      <td>1115500000.0000</td>\n",
              "    </tr>\n",
              "    <tr>\n",
              "      <th>4</th>\n",
              "      <td>4</td>\n",
              "      <td>2001-01-09</td>\n",
              "      <td>58.0000</td>\n",
              "      <td>55.5000</td>\n",
              "      <td>56.6100</td>\n",
              "      <td>-2.8900</td>\n",
              "      <td>5600</td>\n",
              "      <td>7</td>\n",
              "      <td>6</td>\n",
              "      <td>74552.0563</td>\n",
              "      <td>-1418.5120</td>\n",
              "      <td>10884.7411</td>\n",
              "      <td>329242.5842</td>\n",
              "      <td>24703.9764</td>\n",
              "      <td>1128.6156</td>\n",
              "      <td>1295.8600</td>\n",
              "      <td>1311.7200</td>\n",
              "      <td>1295.1400</td>\n",
              "      <td>1300.8000</td>\n",
              "      <td>1300.8000</td>\n",
              "      <td>1191300000.0000</td>\n",
              "    </tr>\n",
              "  </tbody>\n",
              "</table>\n",
              "</div>"
            ],
            "text/plain": [
              "   Unnamed: 0  Trade Date  ...  Adj Close          Volume\n",
              "0           0  2001-01-02  ...  1283.2700 1129400000.0000\n",
              "1           1  2001-01-03  ...  1347.5601 1880700000.0000\n",
              "2           2  2001-01-04  ...  1333.3400 2131000000.0000\n",
              "3           3  2001-01-08  ...  1295.8600 1115500000.0000\n",
              "4           4  2001-01-09  ...  1300.8000 1191300000.0000\n",
              "\n",
              "[5 rows x 21 columns]"
            ]
          },
          "metadata": {
            "tags": []
          },
          "execution_count": 50
        }
      ]
    },
    {
      "cell_type": "code",
      "metadata": {
        "id": "w1n0tDN-gIhF",
        "colab_type": "code",
        "outputId": "c4c7974e-89e9-4c81-c193-988f06086038",
        "colab": {
          "base_uri": "https://localhost:8080/",
          "height": 386
        }
      },
      "source": [
        "df_lstm.dtypes"
      ],
      "execution_count": 0,
      "outputs": [
        {
          "output_type": "execute_result",
          "data": {
            "text/plain": [
              "Unnamed: 0               int64\n",
              "Trade Date              object\n",
              "High Price $/MWh       float64\n",
              "Low Price $/MWh        float64\n",
              "Wtd Avg Price $/MWh    float64\n",
              "Change                 float64\n",
              "Daily Volume MWh         int64\n",
              "Number of Trades         int64\n",
              "Number of Companies      int64\n",
              "DNI                    float64\n",
              "Temperature            float64\n",
              "DHI                    float64\n",
              "Pressure               float64\n",
              "Relative Humidity      float64\n",
              "Wind Speed             float64\n",
              "Open                   float64\n",
              "High                   float64\n",
              "Low                    float64\n",
              "Close                  float64\n",
              "Adj Close              float64\n",
              "Volume                 float64\n",
              "dtype: object"
            ]
          },
          "metadata": {
            "tags": []
          },
          "execution_count": 51
        }
      ]
    },
    {
      "cell_type": "code",
      "metadata": {
        "id": "agO2mubIZZUj",
        "colab_type": "code",
        "colab": {}
      },
      "source": [
        "X=df.values"
      ],
      "execution_count": 0,
      "outputs": []
    },
    {
      "cell_type": "code",
      "metadata": {
        "id": "sH2MYTWOZhwA",
        "colab_type": "code",
        "outputId": "7ccdb48c-53b6-47ed-a9cf-cfd35c60f6df",
        "colab": {
          "base_uri": "https://localhost:8080/",
          "height": 34
        }
      },
      "source": [
        "X.shape"
      ],
      "execution_count": 0,
      "outputs": [
        {
          "output_type": "execute_result",
          "data": {
            "text/plain": [
              "(3314, 24)"
            ]
          },
          "metadata": {
            "tags": []
          },
          "execution_count": 40
        }
      ]
    },
    {
      "cell_type": "code",
      "metadata": {
        "id": "STQM8-_XaD_4",
        "colab_type": "code",
        "colab": {}
      },
      "source": [
        "Dates=X[:,2]"
      ],
      "execution_count": 0,
      "outputs": []
    },
    {
      "cell_type": "code",
      "metadata": {
        "id": "ZKrefLA5Zvax",
        "colab_type": "code",
        "outputId": "f4531b10-ca14-4e10-dc7e-6d3844bc07da",
        "colab": {
          "base_uri": "https://localhost:8080/",
          "height": 34
        }
      },
      "source": [
        "Dates.shape"
      ],
      "execution_count": 0,
      "outputs": [
        {
          "output_type": "execute_result",
          "data": {
            "text/plain": [
              "(3314,)"
            ]
          },
          "metadata": {
            "tags": []
          },
          "execution_count": 42
        }
      ]
    },
    {
      "cell_type": "code",
      "metadata": {
        "id": "psDpG6JNZp__",
        "colab_type": "code",
        "outputId": "f1945e5c-d5b9-46d2-b096-6ec11f44adb0",
        "colab": {
          "base_uri": "https://localhost:8080/",
          "height": 50
        }
      },
      "source": [
        "Dates"
      ],
      "execution_count": 0,
      "outputs": [
        {
          "output_type": "execute_result",
          "data": {
            "text/plain": [
              "array(['2001-01-02', '2001-01-03', '2001-01-04', ..., '2013-12-27',\n",
              "       '2013-12-30', '2013-12-31'], dtype=object)"
            ]
          },
          "metadata": {
            "tags": []
          },
          "execution_count": 43
        }
      ]
    },
    {
      "cell_type": "code",
      "metadata": {
        "id": "Ks5e8ASZZp0l",
        "colab_type": "code",
        "colab": {}
      },
      "source": [
        "Price=X[:,7]"
      ],
      "execution_count": 0,
      "outputs": []
    },
    {
      "cell_type": "code",
      "metadata": {
        "id": "PUvNv54daqDZ",
        "colab_type": "code",
        "outputId": "a4e90628-a724-4fe6-ed2a-6f269a0d6893",
        "colab": {
          "base_uri": "https://localhost:8080/",
          "height": 34
        }
      },
      "source": [
        "Price.shape"
      ],
      "execution_count": 0,
      "outputs": [
        {
          "output_type": "execute_result",
          "data": {
            "text/plain": [
              "(3314,)"
            ]
          },
          "metadata": {
            "tags": []
          },
          "execution_count": 45
        }
      ]
    },
    {
      "cell_type": "code",
      "metadata": {
        "id": "wdy9km4easfB",
        "colab_type": "code",
        "outputId": "ac4814f8-06bf-4fd6-8f65-81fb6cd75194",
        "colab": {
          "base_uri": "https://localhost:8080/",
          "height": 285
        }
      },
      "source": [
        "plt.plot(Dates[:730],Price[:730])"
      ],
      "execution_count": 0,
      "outputs": [
        {
          "output_type": "execute_result",
          "data": {
            "text/plain": [
              "[<matplotlib.lines.Line2D at 0x7f33a83f45c0>]"
            ]
          },
          "metadata": {
            "tags": []
          },
          "execution_count": 46
        },
        {
          "output_type": "display_data",
          "data": {
            "image/png": "[encoded data removed]",
            "text/plain": [
              "<Figure size 432x288 with 1 Axes>"
            ]
          },
          "metadata": {
            "tags": []
          }
        }
      ]
    },
    {
      "cell_type": "code",
      "metadata": {
        "id": "ztueC7cAasUU",
        "colab_type": "code",
        "outputId": "ac305e8f-9843-4c7d-a570-0b7c2d93655b",
        "colab": {
          "base_uri": "https://localhost:8080/",
          "height": 79
        }
      },
      "source": [
        "import numpy as np\n",
        "import matplotlib.pyplot as plt\n",
        "import pandas as pd\n",
        "pd.set_option('display.float_format', lambda x: '%.4f' % x)\n",
        "import seaborn as sns\n",
        "sns.set_context(\"paper\", font_scale=1.3)\n",
        "sns.set_style('white')\n",
        "import warnings\n",
        "warnings.filterwarnings('ignore')\n",
        "from time import time\n",
        "import matplotlib.ticker as tkr\n",
        "from scipy import stats\n",
        "from statsmodels.tsa.stattools import adfuller\n",
        "from sklearn import preprocessing\n",
        "from statsmodels.tsa.stattools import pacf\n",
        "%matplotlib inline\n",
        "import math\n",
        "import keras\n",
        "from keras.models import Sequential\n",
        "from keras.layers import Dense\n",
        "from keras.layers import LSTM\n",
        "from keras.layers import Dropout\n",
        "from keras.layers import *\n",
        "from sklearn.preprocessing import MinMaxScaler\n",
        "from sklearn.metrics import mean_squared_error\n",
        "from sklearn.metrics import mean_absolute_error\n",
        "from keras.callbacks import EarlyStopping"
      ],
      "execution_count": 0,
      "outputs": [
        {
          "output_type": "stream",
          "text": [
            "Using TensorFlow backend.\n"
          ],
          "name": "stderr"
        },
        {
          "output_type": "display_data",
          "data": {
            "text/html": [
              "<p style=\"color: red;\">\n",
              "The default version of TensorFlow in Colab will soon switch to TensorFlow 2.x.<br>\n",
              "We recommend you <a href=\"https://www.tensorflow.org/guide/migrate\" target=\"_blank\">upgrade</a> now \n",
              "or ensure your notebook will continue to use TensorFlow 1.x via the <code>%tensorflow_version 1.x</code> magic:\n",
              "<a href=\"https://colab.research.google.com/notebooks/tensorflow_version.ipynb\" target=\"_blank\">more info</a>.</p>\n"
            ],
            "text/plain": [
              "<IPython.core.display.HTML object>"
            ]
          },
          "metadata": {
            "tags": []
          }
        }
      ]
    },
    {
      "cell_type": "code",
      "metadata": {
        "id": "CLglzGsyeU1Z",
        "colab_type": "code",
        "colab": {}
      },
      "source": [
        "X=df_lstm.values"
      ],
      "execution_count": 0,
      "outputs": []
    },
    {
      "cell_type": "code",
      "metadata": {
        "id": "lVUxfWVCiT3v",
        "colab_type": "code",
        "outputId": "f2df9893-406a-46da-d74e-56a23ecc9b38",
        "colab": {
          "base_uri": "https://localhost:8080/",
          "height": 370
        }
      },
      "source": [
        "df_lstm.dtypes"
      ],
      "execution_count": 0,
      "outputs": [
        {
          "output_type": "execute_result",
          "data": {
            "text/plain": [
              "Trade Date             datetime64[ns]\n",
              "High Price $/MWh              float64\n",
              "Low Price $/MWh               float64\n",
              "Wtd Avg Price $/MWh           float64\n",
              "Change                        float64\n",
              "Daily Volume MWh                int64\n",
              "Number of Trades                int64\n",
              "Number of Companies             int64\n",
              "DNI                           float64\n",
              "Temperature                   float64\n",
              "DHI                           float64\n",
              "Pressure                      float64\n",
              "Relative Humidity             float64\n",
              "Wind Speed                    float64\n",
              "Open                          float64\n",
              "High                          float64\n",
              "Low                           float64\n",
              "Close                         float64\n",
              "Adj Close                     float64\n",
              "Volume                        float64\n",
              "dtype: object"
            ]
          },
          "metadata": {
            "tags": []
          },
          "execution_count": 298
        }
      ]
    },
    {
      "cell_type": "code",
      "metadata": {
        "id": "CnonfIjWiN-L",
        "colab_type": "code",
        "colab": {}
      },
      "source": [
        "df_lstm=df_lstm.drop(['Unnamed: 0'],axis=1)"
      ],
      "execution_count": 0,
      "outputs": []
    },
    {
      "cell_type": "code",
      "metadata": {
        "id": "UD30rSeBibMo",
        "colab_type": "code",
        "outputId": "118eeb32-a812-4911-8d6e-3a61d4e2163d",
        "colab": {
          "base_uri": "https://localhost:8080/",
          "height": 350
        }
      },
      "source": [
        "df_lstm2.head()"
      ],
      "execution_count": 0,
      "outputs": [
        {
          "output_type": "execute_result",
          "data": {
            "text/html": [
              "<div>\n",
              "<style scoped>\n",
              "    .dataframe tbody tr th:only-of-type {\n",
              "        vertical-align: middle;\n",
              "    }\n",
              "\n",
              "    .dataframe tbody tr th {\n",
              "        vertical-align: top;\n",
              "    }\n",
              "\n",
              "    .dataframe thead th {\n",
              "        text-align: right;\n",
              "    }\n",
              "</style>\n",
              "<table border=\"1\" class=\"dataframe\">\n",
              "  <thead>\n",
              "    <tr style=\"text-align: right;\">\n",
              "      <th></th>\n",
              "      <th>Trade Date</th>\n",
              "      <th>High Price $/MWh</th>\n",
              "      <th>Low Price $/MWh</th>\n",
              "      <th>Wtd Avg Price $/MWh</th>\n",
              "      <th>Change</th>\n",
              "      <th>Daily Volume MWh</th>\n",
              "      <th>Number of Trades</th>\n",
              "      <th>Number of Companies</th>\n",
              "      <th>DNI</th>\n",
              "      <th>Temperature</th>\n",
              "      <th>DHI</th>\n",
              "      <th>Pressure</th>\n",
              "      <th>Relative Humidity</th>\n",
              "      <th>Wind Speed</th>\n",
              "      <th>Open</th>\n",
              "      <th>High</th>\n",
              "      <th>Low</th>\n",
              "      <th>Close</th>\n",
              "      <th>Adj Close</th>\n",
              "      <th>Volume</th>\n",
              "    </tr>\n",
              "  </thead>\n",
              "  <tbody>\n",
              "    <tr>\n",
              "      <th>1</th>\n",
              "      <td>2001-01-03</td>\n",
              "      <td>63.0000</td>\n",
              "      <td>59.5000</td>\n",
              "      <td>61.2500</td>\n",
              "      <td>-3.7500</td>\n",
              "      <td>3200</td>\n",
              "      <td>4</td>\n",
              "      <td>2</td>\n",
              "      <td>68287.3104</td>\n",
              "      <td>-1686.3585</td>\n",
              "      <td>9436.2613</td>\n",
              "      <td>331530.1973</td>\n",
              "      <td>25660.5908</td>\n",
              "      <td>911.6792</td>\n",
              "      <td>1283.2700</td>\n",
              "      <td>1347.7600</td>\n",
              "      <td>1274.6200</td>\n",
              "      <td>1347.5601</td>\n",
              "      <td>1347.5601</td>\n",
              "      <td>1880700000.0000</td>\n",
              "    </tr>\n",
              "    <tr>\n",
              "      <th>2</th>\n",
              "      <td>2001-01-04</td>\n",
              "      <td>60.0000</td>\n",
              "      <td>58.5000</td>\n",
              "      <td>59.1200</td>\n",
              "      <td>-2.1300</td>\n",
              "      <td>4800</td>\n",
              "      <td>6</td>\n",
              "      <td>4</td>\n",
              "      <td>42744.5558</td>\n",
              "      <td>-1077.9615</td>\n",
              "      <td>12108.2430</td>\n",
              "      <td>329297.6083</td>\n",
              "      <td>26548.0073</td>\n",
              "      <td>839.5736</td>\n",
              "      <td>1347.5601</td>\n",
              "      <td>1350.2400</td>\n",
              "      <td>1329.1400</td>\n",
              "      <td>1333.3400</td>\n",
              "      <td>1333.3400</td>\n",
              "      <td>2131000000.0000</td>\n",
              "    </tr>\n",
              "    <tr>\n",
              "      <th>3</th>\n",
              "      <td>2001-01-08</td>\n",
              "      <td>59.5000</td>\n",
              "      <td>59.5000</td>\n",
              "      <td>59.5000</td>\n",
              "      <td>0.3800</td>\n",
              "      <td>800</td>\n",
              "      <td>1</td>\n",
              "      <td>2</td>\n",
              "      <td>23221.8513</td>\n",
              "      <td>-683.1145</td>\n",
              "      <td>13144.1723</td>\n",
              "      <td>327948.2916</td>\n",
              "      <td>30604.1390</td>\n",
              "      <td>537.5872</td>\n",
              "      <td>1298.3500</td>\n",
              "      <td>1298.3500</td>\n",
              "      <td>1276.2900</td>\n",
              "      <td>1295.8600</td>\n",
              "      <td>1295.8600</td>\n",
              "      <td>1115500000.0000</td>\n",
              "    </tr>\n",
              "    <tr>\n",
              "      <th>4</th>\n",
              "      <td>2001-01-09</td>\n",
              "      <td>58.0000</td>\n",
              "      <td>55.5000</td>\n",
              "      <td>56.6100</td>\n",
              "      <td>-2.8900</td>\n",
              "      <td>5600</td>\n",
              "      <td>7</td>\n",
              "      <td>6</td>\n",
              "      <td>74552.0563</td>\n",
              "      <td>-1418.5120</td>\n",
              "      <td>10884.7411</td>\n",
              "      <td>329242.5842</td>\n",
              "      <td>24703.9764</td>\n",
              "      <td>1128.6156</td>\n",
              "      <td>1295.8600</td>\n",
              "      <td>1311.7200</td>\n",
              "      <td>1295.1400</td>\n",
              "      <td>1300.8000</td>\n",
              "      <td>1300.8000</td>\n",
              "      <td>1191300000.0000</td>\n",
              "    </tr>\n",
              "    <tr>\n",
              "      <th>5</th>\n",
              "      <td>2001-01-10</td>\n",
              "      <td>50.5000</td>\n",
              "      <td>49.0000</td>\n",
              "      <td>49.7500</td>\n",
              "      <td>-6.8600</td>\n",
              "      <td>3200</td>\n",
              "      <td>4</td>\n",
              "      <td>4</td>\n",
              "      <td>70923.0602</td>\n",
              "      <td>-480.1973</td>\n",
              "      <td>10787.1266</td>\n",
              "      <td>330427.8200</td>\n",
              "      <td>25660.6642</td>\n",
              "      <td>1122.0489</td>\n",
              "      <td>1300.8000</td>\n",
              "      <td>1313.7600</td>\n",
              "      <td>1287.2800</td>\n",
              "      <td>1313.2700</td>\n",
              "      <td>1313.2700</td>\n",
              "      <td>1296500000.0000</td>\n",
              "    </tr>\n",
              "  </tbody>\n",
              "</table>\n",
              "</div>"
            ],
            "text/plain": [
              "  Trade Date  High Price $/MWh  ...  Adj Close          Volume\n",
              "1 2001-01-03           63.0000  ...  1347.5601 1880700000.0000\n",
              "2 2001-01-04           60.0000  ...  1333.3400 2131000000.0000\n",
              "3 2001-01-08           59.5000  ...  1295.8600 1115500000.0000\n",
              "4 2001-01-09           58.0000  ...  1300.8000 1191300000.0000\n",
              "5 2001-01-10           50.5000  ...  1313.2700 1296500000.0000\n",
              "\n",
              "[5 rows x 20 columns]"
            ]
          },
          "metadata": {
            "tags": []
          },
          "execution_count": 300
        }
      ]
    },
    {
      "cell_type": "code",
      "metadata": {
        "id": "URWQIXTztWmJ",
        "colab_type": "code",
        "colab": {}
      },
      "source": [
        "df_lstm['Trade Date']=pd.to_datetime(df_lstm['Trade Date'], format=\"%Y-%m-%d\")"
      ],
      "execution_count": 0,
      "outputs": []
    },
    {
      "cell_type": "code",
      "metadata": {
        "id": "Hl4KMYQXHk4D",
        "colab_type": "code",
        "outputId": "b88bcb5d-0fef-4296-d2f9-f5335a075856",
        "colab": {
          "base_uri": "https://localhost:8080/",
          "height": 34
        }
      },
      "source": [
        "df_lstm2.shape"
      ],
      "execution_count": 0,
      "outputs": [
        {
          "output_type": "execute_result",
          "data": {
            "text/plain": [
              "(3258, 20)"
            ]
          },
          "metadata": {
            "tags": []
          },
          "execution_count": 219
        }
      ]
    },
    {
      "cell_type": "code",
      "metadata": {
        "id": "tEnoYHnpHMiV",
        "colab_type": "code",
        "colab": {}
      },
      "source": [
        "df_lstm2=df_lstm.dropna(subset=[i for i in df_lstm.columns])"
      ],
      "execution_count": 0,
      "outputs": []
    },
    {
      "cell_type": "code",
      "metadata": {
        "id": "rldqcYuyJDc1",
        "colab_type": "code",
        "colab": {}
      },
      "source": [
        "X=df_lstm2.values"
      ],
      "execution_count": 0,
      "outputs": []
    },
    {
      "cell_type": "code",
      "metadata": {
        "id": "WbDSz24ViLXY",
        "colab_type": "code",
        "outputId": "7273f495-bb5f-4fbc-e747-802bddbe6af8",
        "colab": {
          "base_uri": "https://localhost:8080/",
          "height": 34
        }
      },
      "source": [
        "X.shape"
      ],
      "execution_count": 302,
      "outputs": [
        {
          "output_type": "execute_result",
          "data": {
            "text/plain": [
              "(3258, 20)"
            ]
          },
          "metadata": {
            "tags": []
          },
          "execution_count": 302
        }
      ]
    },
    {
      "cell_type": "code",
      "metadata": {
        "id": "hraOmKuTswDd",
        "colab_type": "code",
        "outputId": "516c1243-a7c4-4d3c-a774-42ad8acc8601",
        "colab": {
          "base_uri": "https://localhost:8080/",
          "height": 34
        }
      },
      "source": [
        "X.dtype"
      ],
      "execution_count": 303,
      "outputs": [
        {
          "output_type": "execute_result",
          "data": {
            "text/plain": [
              "dtype('O')"
            ]
          },
          "metadata": {
            "tags": []
          },
          "execution_count": 303
        }
      ]
    },
    {
      "cell_type": "code",
      "metadata": {
        "id": "cwaH6bvkszJt",
        "colab_type": "code",
        "outputId": "5b3a559d-7a20-4cdb-f514-21c32472e024",
        "colab": {
          "base_uri": "https://localhost:8080/",
          "height": 34
        }
      },
      "source": [
        "type(X[0,0])"
      ],
      "execution_count": 304,
      "outputs": [
        {
          "output_type": "execute_result",
          "data": {
            "text/plain": [
              "pandas._libs.tslibs.timestamps.Timestamp"
            ]
          },
          "metadata": {
            "tags": []
          },
          "execution_count": 304
        }
      ]
    },
    {
      "cell_type": "code",
      "metadata": {
        "id": "tlYx6gKKa9Qr",
        "colab_type": "code",
        "colab": {
          "base_uri": "https://localhost:8080/",
          "height": 101
        },
        "outputId": "9220936e-1706-45e1-b6ed-236d1b36a98d"
      },
      "source": [
        "X[0,:]"
      ],
      "execution_count": 306,
      "outputs": [
        {
          "output_type": "execute_result",
          "data": {
            "text/plain": [
              "array([Timestamp('2001-01-03 00:00:00'), 63.0, 59.5, 61.25, -3.75, 3200,\n",
              "       4, 2, 68287.31039461019, -1686.3585178055826, 9436.261308950912,\n",
              "       331530.19730510114, 25660.59082771896, 911.6792107795959,\n",
              "       1283.27002, 1347.76001, 1274.619995, 1347.560059, 1347.560059,\n",
              "       1880700000.0], dtype=object)"
            ]
          },
          "metadata": {
            "tags": []
          },
          "execution_count": 306
        }
      ]
    },
    {
      "cell_type": "code",
      "metadata": {
        "id": "o7IldzMFLA2y",
        "colab_type": "code",
        "colab": {}
      },
      "source": [
        "Y=np.zeros((3258,1))"
      ],
      "execution_count": 0,
      "outputs": []
    },
    {
      "cell_type": "code",
      "metadata": {
        "id": "r3YSbey0iqP7",
        "colab_type": "code",
        "colab": {}
      },
      "source": [
        "Y[:,0]=X[:,3]"
      ],
      "execution_count": 0,
      "outputs": []
    },
    {
      "cell_type": "code",
      "metadata": {
        "id": "BGFrF8BCi-e1",
        "colab_type": "code",
        "outputId": "1fe99196-d5b1-4ad2-faee-563dde44ba98",
        "colab": {
          "base_uri": "https://localhost:8080/",
          "height": 34
        }
      },
      "source": [
        "Y.shape"
      ],
      "execution_count": 309,
      "outputs": [
        {
          "output_type": "execute_result",
          "data": {
            "text/plain": [
              "(3258, 1)"
            ]
          },
          "metadata": {
            "tags": []
          },
          "execution_count": 309
        }
      ]
    },
    {
      "cell_type": "code",
      "metadata": {
        "id": "gNJ8-4zrK99R",
        "colab_type": "code",
        "colab": {}
      },
      "source": [
        ""
      ],
      "execution_count": 0,
      "outputs": []
    },
    {
      "cell_type": "code",
      "metadata": {
        "id": "WSU3d0mHjE_M",
        "colab_type": "code",
        "colab": {}
      },
      "source": [
        "features=X[:,[1,2,4,5,6,7,8,9,10,11,12,13,14,15,16,17,18,19]]"
      ],
      "execution_count": 0,
      "outputs": []
    },
    {
      "cell_type": "code",
      "metadata": {
        "id": "1EoiRC_VkCrd",
        "colab_type": "code",
        "outputId": "e611a826-247e-4e2d-bd75-6caa1fc723e1",
        "colab": {
          "base_uri": "https://localhost:8080/",
          "height": 34
        }
      },
      "source": [
        "X.shape"
      ],
      "execution_count": 321,
      "outputs": [
        {
          "output_type": "execute_result",
          "data": {
            "text/plain": [
              "(3258, 20)"
            ]
          },
          "metadata": {
            "tags": []
          },
          "execution_count": 321
        }
      ]
    },
    {
      "cell_type": "code",
      "metadata": {
        "id": "_F66xYcMjjao",
        "colab_type": "code",
        "outputId": "cf1a784a-0009-4b8a-ebb7-91312ef85187",
        "colab": {
          "base_uri": "https://localhost:8080/",
          "height": 34
        }
      },
      "source": [
        "features.shape"
      ],
      "execution_count": 311,
      "outputs": [
        {
          "output_type": "execute_result",
          "data": {
            "text/plain": [
              "(3258, 18)"
            ]
          },
          "metadata": {
            "tags": []
          },
          "execution_count": 311
        }
      ]
    },
    {
      "cell_type": "code",
      "metadata": {
        "id": "4zYiP22GkuaB",
        "colab_type": "code",
        "outputId": "41feb7cd-6993-4d4d-dd75-6cc38b0b4645",
        "colab": {
          "base_uri": "https://localhost:8080/",
          "height": 101
        }
      },
      "source": [
        "features[0,:]"
      ],
      "execution_count": 314,
      "outputs": [
        {
          "output_type": "execute_result",
          "data": {
            "text/plain": [
              "array([ 6.3000000e+01,  5.9500000e+01, -3.7500000e+00,  3.2000000e+03,\n",
              "        4.0000000e+00,  2.0000000e+00,  6.8287312e+04, -1.6863585e+03,\n",
              "        9.4362617e+03,  3.3153019e+05,  2.5660592e+04,  9.1167920e+02,\n",
              "        1.2832700e+03,  1.3477600e+03,  1.2746200e+03,  1.3475601e+03,\n",
              "        1.3475601e+03,  1.8807000e+09], dtype=float32)"
            ]
          },
          "metadata": {
            "tags": []
          },
          "execution_count": 314
        }
      ]
    },
    {
      "cell_type": "code",
      "metadata": {
        "id": "GviDreISj-9m",
        "colab_type": "code",
        "colab": {}
      },
      "source": [
        "features=features.astype('float32')"
      ],
      "execution_count": 0,
      "outputs": []
    },
    {
      "cell_type": "code",
      "metadata": {
        "id": "RhidIyLwlMjj",
        "colab_type": "code",
        "colab": {}
      },
      "source": [
        "scaler_x = MinMaxScaler(feature_range=(0, 1))\n",
        "scaler_y = MinMaxScaler(feature_range=(0,1))"
      ],
      "execution_count": 0,
      "outputs": []
    },
    {
      "cell_type": "code",
      "metadata": {
        "id": "g9oFF61YKlZL",
        "colab_type": "code",
        "colab": {}
      },
      "source": [
        "features = scaler_x.fit_transform(features)"
      ],
      "execution_count": 0,
      "outputs": []
    },
    {
      "cell_type": "code",
      "metadata": {
        "id": "_wbJAkvuljPG",
        "colab_type": "code",
        "outputId": "b8d1c92c-d082-405e-bf91-ac8af0cdf23d",
        "colab": {
          "base_uri": "https://localhost:8080/",
          "height": 84
        }
      },
      "source": [
        "features[0,:]"
      ],
      "execution_count": 317,
      "outputs": [
        {
          "output_type": "execute_result",
          "data": {
            "text/plain": [
              "array([0.14070188, 0.1609102 , 0.52142996, 0.0078125 , 0.00867052,\n",
              "       0.        , 0.46481225, 0.15755825, 0.11635678, 0.5776367 ,\n",
              "       0.5126916 , 0.28145093, 0.51903   , 0.5653327 , 0.5170292 ,\n",
              "       0.57263434, 0.57263434, 0.13735208], dtype=float32)"
            ]
          },
          "metadata": {
            "tags": []
          },
          "execution_count": 317
        }
      ]
    },
    {
      "cell_type": "code",
      "metadata": {
        "id": "wKZiA0_FKzYj",
        "colab_type": "code",
        "colab": {}
      },
      "source": [
        "Y=scaler_y.fit_transform(Y)"
      ],
      "execution_count": 0,
      "outputs": []
    },
    {
      "cell_type": "code",
      "metadata": {
        "id": "OnB-LoAnLMzE",
        "colab_type": "code",
        "outputId": "b7ea0034-a7b9-4d43-e905-dbaa5015d567",
        "colab": {
          "base_uri": "https://localhost:8080/",
          "height": 50
        }
      },
      "source": [
        "Y[:,0]"
      ],
      "execution_count": 319,
      "outputs": [
        {
          "output_type": "execute_result",
          "data": {
            "text/plain": [
              "array([0.15347419, 0.14555126, 0.14696474, ..., 0.09846005, 0.09600506,\n",
              "       0.1072757 ])"
            ]
          },
          "metadata": {
            "tags": []
          },
          "execution_count": 319
        }
      ]
    },
    {
      "cell_type": "code",
      "metadata": {
        "id": "5wvntEjgbcjx",
        "colab_type": "code",
        "colab": {
          "base_uri": "https://localhost:8080/",
          "height": 34
        },
        "outputId": "9a8a4bb0-9e2c-4fa8-f676-5c3fa21af898"
      },
      "source": [
        "Y.shape"
      ],
      "execution_count": 326,
      "outputs": [
        {
          "output_type": "execute_result",
          "data": {
            "text/plain": [
              "(3258, 1)"
            ]
          },
          "metadata": {
            "tags": []
          },
          "execution_count": 326
        }
      ]
    },
    {
      "cell_type": "code",
      "metadata": {
        "id": "agz_LLjrlmBO",
        "colab_type": "code",
        "colab": {}
      },
      "source": [
        "train_size = int(len(features) * 0.90)\n",
        "test_size = len(features) - train_size"
      ],
      "execution_count": 0,
      "outputs": []
    },
    {
      "cell_type": "code",
      "metadata": {
        "id": "obBI2u_Kl8E1",
        "colab_type": "code",
        "colab": {}
      },
      "source": [
        "dataset=np.empty((X.shape[0],19))"
      ],
      "execution_count": 0,
      "outputs": []
    },
    {
      "cell_type": "code",
      "metadata": {
        "id": "Jd8nk1tMtROV",
        "colab_type": "code",
        "colab": {}
      },
      "source": [
        "dataset[:,18]=Y[:,0]"
      ],
      "execution_count": 0,
      "outputs": []
    },
    {
      "cell_type": "code",
      "metadata": {
        "id": "sax5V2wJnlgJ",
        "colab_type": "code",
        "outputId": "d8493ecf-64a8-4a4d-93d9-45944ac06008",
        "colab": {
          "base_uri": "https://localhost:8080/",
          "height": 34
        }
      },
      "source": [
        "dataset.shape"
      ],
      "execution_count": 325,
      "outputs": [
        {
          "output_type": "execute_result",
          "data": {
            "text/plain": [
              "(3258, 19)"
            ]
          },
          "metadata": {
            "tags": []
          },
          "execution_count": 325
        }
      ]
    },
    {
      "cell_type": "code",
      "metadata": {
        "id": "J58Miyuhnumt",
        "colab_type": "code",
        "colab": {}
      },
      "source": [
        ""
      ],
      "execution_count": 0,
      "outputs": []
    },
    {
      "cell_type": "code",
      "metadata": {
        "id": "SrKd4V1XncH9",
        "colab_type": "code",
        "colab": {}
      },
      "source": [
        "dataset[:,0:18]=features"
      ],
      "execution_count": 0,
      "outputs": []
    },
    {
      "cell_type": "code",
      "metadata": {
        "id": "YiIpvrLd1eKC",
        "colab_type": "code",
        "colab": {}
      },
      "source": [
        "df=pd.DataFrame(dataset)"
      ],
      "execution_count": 0,
      "outputs": []
    },
    {
      "cell_type": "code",
      "metadata": {
        "id": "BkWejThi1uQd",
        "colab_type": "code",
        "colab": {}
      },
      "source": [
        "df.to_csv(\"/content/sample_data/dataset.csv\")"
      ],
      "execution_count": 0,
      "outputs": []
    },
    {
      "cell_type": "code",
      "metadata": {
        "id": "UXQF3fpO2Phz",
        "colab_type": "code",
        "outputId": "534026e2-4ba2-47a7-e02d-3588e787e042",
        "colab": {
          "base_uri": "https://localhost:8080/",
          "height": 34
        }
      },
      "source": [
        "df.columns[1]"
      ],
      "execution_count": 0,
      "outputs": [
        {
          "output_type": "execute_result",
          "data": {
            "text/plain": [
              "1"
            ]
          },
          "metadata": {
            "tags": []
          },
          "execution_count": 172
        }
      ]
    },
    {
      "cell_type": "code",
      "metadata": {
        "id": "eK7xVc7c2J7c",
        "colab_type": "code",
        "colab": {}
      },
      "source": [
        "df2=df.dropna(subset=[i for i in range(19)])"
      ],
      "execution_count": 0,
      "outputs": []
    },
    {
      "cell_type": "code",
      "metadata": {
        "id": "kbpBxjSy2wxB",
        "colab_type": "code",
        "outputId": "2478cf11-02af-4629-a7e9-8064ec291190",
        "colab": {
          "base_uri": "https://localhost:8080/",
          "height": 353
        }
      },
      "source": [
        "df2.isnull().sum()"
      ],
      "execution_count": 0,
      "outputs": [
        {
          "output_type": "execute_result",
          "data": {
            "text/plain": [
              "0     0\n",
              "1     0\n",
              "2     0\n",
              "3     0\n",
              "4     0\n",
              "5     0\n",
              "6     0\n",
              "7     0\n",
              "8     0\n",
              "9     0\n",
              "10    0\n",
              "11    0\n",
              "12    0\n",
              "13    0\n",
              "14    0\n",
              "15    0\n",
              "16    0\n",
              "17    0\n",
              "18    0\n",
              "dtype: int64"
            ]
          },
          "metadata": {
            "tags": []
          },
          "execution_count": 177
        }
      ]
    },
    {
      "cell_type": "code",
      "metadata": {
        "id": "EZTwYTGzos3C",
        "colab_type": "code",
        "colab": {}
      },
      "source": [
        "dataset=df2.values"
      ],
      "execution_count": 0,
      "outputs": []
    },
    {
      "cell_type": "code",
      "metadata": {
        "id": "wdUWZw7JLsTg",
        "colab_type": "code",
        "outputId": "b6a2fb2f-b9e0-442d-b1a4-f178cc86deab",
        "colab": {
          "base_uri": "https://localhost:8080/",
          "height": 84
        }
      },
      "source": [
        "dataset[0,:]"
      ],
      "execution_count": 329,
      "outputs": [
        {
          "output_type": "execute_result",
          "data": {
            "text/plain": [
              "array([0.14070188, 0.1609102 , 0.52142996, 0.0078125 , 0.00867052,\n",
              "       0.        , 0.46481225, 0.15755825, 0.11635678, 0.57763672,\n",
              "       0.51269162, 0.28145093, 0.51902997, 0.56533271, 0.51702923,\n",
              "       0.57263434, 0.57263434, 0.13735208, 0.15347419])"
            ]
          },
          "metadata": {
            "tags": []
          },
          "execution_count": 329
        }
      ]
    },
    {
      "cell_type": "code",
      "metadata": {
        "id": "rP5wM-QewhKz",
        "colab_type": "code",
        "colab": {}
      },
      "source": [
        "train, test = dataset[0:train_size,:], dataset[train_size:len(dataset),:]"
      ],
      "execution_count": 0,
      "outputs": []
    },
    {
      "cell_type": "code",
      "metadata": {
        "id": "xz4KL54pw6hj",
        "colab_type": "code",
        "outputId": "9759e8b0-56ea-4257-b9d4-8687c10560a3",
        "colab": {
          "base_uri": "https://localhost:8080/",
          "height": 34
        }
      },
      "source": [
        "train.shape"
      ],
      "execution_count": 331,
      "outputs": [
        {
          "output_type": "execute_result",
          "data": {
            "text/plain": [
              "(2932, 19)"
            ]
          },
          "metadata": {
            "tags": []
          },
          "execution_count": 331
        }
      ]
    },
    {
      "cell_type": "code",
      "metadata": {
        "id": "cBETgQ8kw8-m",
        "colab_type": "code",
        "outputId": "3a9a3c98-4795-4d3a-b228-d6474bdb47c6",
        "colab": {
          "base_uri": "https://localhost:8080/",
          "height": 34
        }
      },
      "source": [
        "test.shape"
      ],
      "execution_count": 332,
      "outputs": [
        {
          "output_type": "execute_result",
          "data": {
            "text/plain": [
              "(326, 19)"
            ]
          },
          "metadata": {
            "tags": []
          },
          "execution_count": 332
        }
      ]
    },
    {
      "cell_type": "code",
      "metadata": {
        "id": "8YPY93BDw_TN",
        "colab_type": "code",
        "colab": {}
      },
      "source": [
        "def create_dataset(dataset, look_back=1):\n",
        "    X, Y = [], []\n",
        "    for i in range(len(dataset)-look_back-1):\n",
        "        a = dataset[i:(i+look_back), 0:18]\n",
        "        X.append(a)\n",
        "        Y.append(dataset[i + look_back, 18])\n",
        "    return np.array(X), np.array(Y)\n",
        "    \n",
        "look_back = 10\n",
        "X_train, Y_train = create_dataset(train, look_back)\n",
        "X_test, Y_test = create_dataset(test, look_back)"
      ],
      "execution_count": 0,
      "outputs": []
    },
    {
      "cell_type": "code",
      "metadata": {
        "id": "5Gt9OClvxXyF",
        "colab_type": "code",
        "outputId": "103c82e6-906a-487c-f6ae-b6560cb750d7",
        "colab": {
          "base_uri": "https://localhost:8080/",
          "height": 34
        }
      },
      "source": [
        "X_train.shape"
      ],
      "execution_count": 334,
      "outputs": [
        {
          "output_type": "execute_result",
          "data": {
            "text/plain": [
              "(2921, 10, 18)"
            ]
          },
          "metadata": {
            "tags": []
          },
          "execution_count": 334
        }
      ]
    },
    {
      "cell_type": "code",
      "metadata": {
        "id": "Cg7ZQBuBxeFv",
        "colab_type": "code",
        "outputId": "7fb6c527-d078-4c87-d3d6-d6cb276113e6",
        "colab": {
          "base_uri": "https://localhost:8080/",
          "height": 34
        }
      },
      "source": [
        "Y_train=np.array([Y_train]).T;Y_train.shape"
      ],
      "execution_count": 335,
      "outputs": [
        {
          "output_type": "execute_result",
          "data": {
            "text/plain": [
              "(2921, 1)"
            ]
          },
          "metadata": {
            "tags": []
          },
          "execution_count": 335
        }
      ]
    },
    {
      "cell_type": "code",
      "metadata": {
        "id": "TalwtniCMzUD",
        "colab_type": "code",
        "outputId": "a3987a50-f7e6-4d55-f4ea-8d3f8418e41d",
        "colab": {
          "base_uri": "https://localhost:8080/",
          "height": 34
        }
      },
      "source": [
        "Y_train.shape"
      ],
      "execution_count": 336,
      "outputs": [
        {
          "output_type": "execute_result",
          "data": {
            "text/plain": [
              "(2921, 1)"
            ]
          },
          "metadata": {
            "tags": []
          },
          "execution_count": 336
        }
      ]
    },
    {
      "cell_type": "code",
      "metadata": {
        "id": "Fb5DMS5lMpkO",
        "colab_type": "code",
        "outputId": "7f4f91b8-9ff0-4e6e-c817-295f92a3bc94",
        "colab": {
          "base_uri": "https://localhost:8080/",
          "height": 34
        }
      },
      "source": [
        "Y_test=np.array([Y_test]).T;Y_test.shape"
      ],
      "execution_count": 337,
      "outputs": [
        {
          "output_type": "execute_result",
          "data": {
            "text/plain": [
              "(315, 1)"
            ]
          },
          "metadata": {
            "tags": []
          },
          "execution_count": 337
        }
      ]
    },
    {
      "cell_type": "code",
      "metadata": {
        "id": "PI5ooS17xjQQ",
        "colab_type": "code",
        "colab": {}
      },
      "source": [
        "X_train = np.reshape(X_train, (X_train.shape[0], 10, 18))\n",
        "X_test = np.reshape(X_test, (X_test.shape[0], 10, 18))"
      ],
      "execution_count": 0,
      "outputs": []
    },
    {
      "cell_type": "code",
      "metadata": {
        "id": "xZk8temjyNI4",
        "colab_type": "code",
        "outputId": "4b62d4f0-3fdc-4fb5-af67-fec696978b96",
        "colab": {
          "base_uri": "https://localhost:8080/",
          "height": 1000
        }
      },
      "source": [
        "model = Sequential()\n",
        "model.add(LSTM(100, input_shape=(X_train.shape[1], X_train.shape[2])))\n",
        "model.add(Dropout(0.2))\n",
        "model.add(Dense(1))\n",
        "# model.add(Activation('linear'))\n",
        "model.compile(loss='mean_squared_error', optimizer='adam')\n",
        "history = model.fit(X_train, Y_train, epochs=100, batch_size=70, validation_data=(X_test, Y_test), \n",
        "                    callbacks=[EarlyStopping(monitor='val_loss', patience=10)], verbose=1, shuffle=False)\n",
        "\n",
        "model.summary()"
      ],
      "execution_count": 339,
      "outputs": [
        {
          "output_type": "stream",
          "text": [
            "Train on 2921 samples, validate on 315 samples\n",
            "Epoch 1/100\n",
            "2921/2921 [==============================] - 3s 1ms/step - loss: 0.0164 - val_loss: 0.0079\n",
            "Epoch 2/100\n",
            "2921/2921 [==============================] - 1s 200us/step - loss: 0.0089 - val_loss: 0.0031\n",
            "Epoch 3/100\n",
            "2921/2921 [==============================] - 1s 200us/step - loss: 0.0065 - val_loss: 0.0028\n",
            "Epoch 4/100\n",
            "2921/2921 [==============================] - 1s 208us/step - loss: 0.0055 - val_loss: 0.0026\n",
            "Epoch 5/100\n",
            "2921/2921 [==============================] - 1s 204us/step - loss: 0.0046 - val_loss: 0.0025\n",
            "Epoch 6/100\n",
            "2921/2921 [==============================] - 1s 208us/step - loss: 0.0042 - val_loss: 0.0024\n",
            "Epoch 7/100\n",
            "2921/2921 [==============================] - 1s 210us/step - loss: 0.0039 - val_loss: 0.0024\n",
            "Epoch 8/100\n",
            "2921/2921 [==============================] - 1s 211us/step - loss: 0.0039 - val_loss: 0.0023\n",
            "Epoch 9/100\n",
            "2921/2921 [==============================] - 1s 205us/step - loss: 0.0035 - val_loss: 0.0023\n",
            "Epoch 10/100\n",
            "2921/2921 [==============================] - 1s 216us/step - loss: 0.0036 - val_loss: 0.0022\n",
            "Epoch 11/100\n",
            "2921/2921 [==============================] - 1s 204us/step - loss: 0.0035 - val_loss: 0.0022\n",
            "Epoch 12/100\n",
            "2921/2921 [==============================] - 1s 207us/step - loss: 0.0037 - val_loss: 0.0023\n",
            "Epoch 13/100\n",
            "2921/2921 [==============================] - 1s 205us/step - loss: 0.0040 - val_loss: 0.0022\n",
            "Epoch 14/100\n",
            "2921/2921 [==============================] - 1s 209us/step - loss: 0.0044 - val_loss: 0.0021\n",
            "Epoch 15/100\n",
            "2921/2921 [==============================] - 1s 205us/step - loss: 0.0044 - val_loss: 0.0021\n",
            "Epoch 16/100\n",
            "2921/2921 [==============================] - 1s 205us/step - loss: 0.0039 - val_loss: 0.0020\n",
            "Epoch 17/100\n",
            "2921/2921 [==============================] - 1s 204us/step - loss: 0.0037 - val_loss: 0.0020\n",
            "Epoch 18/100\n",
            "2921/2921 [==============================] - 1s 207us/step - loss: 0.0039 - val_loss: 0.0021\n",
            "Epoch 19/100\n",
            "2921/2921 [==============================] - 1s 201us/step - loss: 0.0038 - val_loss: 0.0020\n",
            "Epoch 20/100\n",
            "2921/2921 [==============================] - 1s 210us/step - loss: 0.0041 - val_loss: 0.0019\n",
            "Epoch 21/100\n",
            "2921/2921 [==============================] - 1s 203us/step - loss: 0.0042 - val_loss: 0.0018\n",
            "Epoch 22/100\n",
            "2921/2921 [==============================] - 1s 203us/step - loss: 0.0045 - val_loss: 0.0018\n",
            "Epoch 23/100\n",
            "2921/2921 [==============================] - 1s 209us/step - loss: 0.0047 - val_loss: 0.0019\n",
            "Epoch 24/100\n",
            "2921/2921 [==============================] - 1s 205us/step - loss: 0.0053 - val_loss: 0.0020\n",
            "Epoch 25/100\n",
            "2921/2921 [==============================] - 1s 202us/step - loss: 0.0054 - val_loss: 0.0025\n",
            "Epoch 26/100\n",
            "2921/2921 [==============================] - 1s 205us/step - loss: 0.0063 - val_loss: 0.0038\n",
            "Epoch 27/100\n",
            "2921/2921 [==============================] - 1s 211us/step - loss: 0.0070 - val_loss: 0.0053\n",
            "Epoch 28/100\n",
            "2921/2921 [==============================] - 1s 210us/step - loss: 0.0075 - val_loss: 0.0076\n",
            "Epoch 29/100\n",
            "2921/2921 [==============================] - 1s 201us/step - loss: 0.0075 - val_loss: 0.0112\n",
            "Epoch 30/100\n",
            "2921/2921 [==============================] - 1s 205us/step - loss: 0.0072 - val_loss: 0.0099\n",
            "Epoch 31/100\n",
            "2921/2921 [==============================] - 1s 208us/step - loss: 0.0057 - val_loss: 0.0082\n",
            "Epoch 32/100\n",
            "2921/2921 [==============================] - 1s 204us/step - loss: 0.0046 - val_loss: 0.0064\n",
            "Model: \"sequential_12\"\n",
            "_________________________________________________________________\n",
            "Layer (type)                 Output Shape              Param #   \n",
            "=================================================================\n",
            "lstm_12 (LSTM)               (None, 100)               47600     \n",
            "_________________________________________________________________\n",
            "dropout_12 (Dropout)         (None, 100)               0         \n",
            "_________________________________________________________________\n",
            "dense_12 (Dense)             (None, 1)                 101       \n",
            "=================================================================\n",
            "Total params: 47,701\n",
            "Trainable params: 47,701\n",
            "Non-trainable params: 0\n",
            "_________________________________________________________________\n"
          ],
          "name": "stdout"
        }
      ]
    },
    {
      "cell_type": "code",
      "metadata": {
        "id": "2lzlxYWLzNrM",
        "colab_type": "code",
        "outputId": "377b5d5b-5607-44cd-aeee-01ea3b903bbb",
        "colab": {
          "base_uri": "https://localhost:8080/",
          "height": 118
        }
      },
      "source": [
        "train_predict = model.predict(X_train)\n",
        "test_predict = model.predict(X_test)\n",
        "print(X_train.shape,train_predict.shape)\n",
        "print(Y_train.shape)\n",
        "# invert predictions\n",
        "train_predict = scaler_y.inverse_transform(train_predict)\n",
        "Y_train = scaler_y.inverse_transform(Y_train)\n",
        "test_predict = scaler_y.inverse_transform(test_predict)\n",
        "Y_test = scaler_y.inverse_transform(Y_test)\n",
        "print('Train Mean Absolute Error:', mean_absolute_error(Y_train[:,0], train_predict[:,0]))\n",
        "print('Train Root Mean Squared Error:',np.sqrt(mean_squared_error(Y_train[:,0], train_predict[:,0])))\n",
        "print('Test Mean Absolute Error:', mean_absolute_error(Y_test[:,0], test_predict[:,0]))\n",
        "print('Test Root Mean Squared Error:',np.sqrt(mean_squared_error(Y_test[:,0], test_predict[:,0])))"
      ],
      "execution_count": 340,
      "outputs": [
        {
          "output_type": "stream",
          "text": [
            "(2921, 10, 18) (2921, 1)\n",
            "(2921, 1)\n",
            "Train Mean Absolute Error: 14.856572382843424\n",
            "Train Root Mean Squared Error: 17.7803403435254\n",
            "Test Mean Absolute Error: 19.991219755142453\n",
            "Test Root Mean Squared Error: 21.424927750859027\n"
          ],
          "name": "stdout"
        }
      ]
    },
    {
      "cell_type": "code",
      "metadata": {
        "id": "W0iF5wbu3Z3C",
        "colab_type": "code",
        "outputId": "78369f42-5e30-45e0-cade-2571a528dff0",
        "colab": {
          "base_uri": "https://localhost:8080/",
          "height": 300
        }
      },
      "source": [
        "plt.figure(figsize=(8,4))\n",
        "plt.plot(history.history['loss'], label='Train Loss')\n",
        "plt.plot(history.history['val_loss'], label='Test Loss')\n",
        "plt.title('model loss')\n",
        "plt.ylabel('loss')\n",
        "plt.xlabel('epochs')\n",
        "plt.legend(loc='upper right')\n",
        "plt.show();"
      ],
      "execution_count": 341,
      "outputs": [
        {
          "output_type": "display_data",
          "data": {
            "image/png": "[encoded data removed]",
            "text/plain": [
              "<Figure size 576x288 with 1 Axes>"
            ]
          },
          "metadata": {
            "tags": []
          }
        }
      ]
    },
    {
      "cell_type": "code",
      "metadata": {
        "id": "dQbLh6VmOnn4",
        "colab_type": "code",
        "outputId": "903a8b6f-d81a-41a4-a786-5fa8e54064d3",
        "colab": {
          "base_uri": "https://localhost:8080/",
          "height": 34
        }
      },
      "source": [
        "train_predict.shape"
      ],
      "execution_count": 0,
      "outputs": [
        {
          "output_type": "execute_result",
          "data": {
            "text/plain": [
              "(2921, 1)"
            ]
          },
          "metadata": {
            "tags": []
          },
          "execution_count": 285
        }
      ]
    },
    {
      "cell_type": "code",
      "metadata": {
        "id": "BR632TgnPedR",
        "colab_type": "code",
        "outputId": "40923303-cadd-4a3c-d324-30d4a405c74c",
        "colab": {
          "base_uri": "https://localhost:8080/",
          "height": 50
        }
      },
      "source": [
        "train_predict[:,0]"
      ],
      "execution_count": 0,
      "outputs": [
        {
          "output_type": "execute_result",
          "data": {
            "text/plain": [
              "array([14421.404, 14421.402, 14421.402, ..., 14421.439, 14421.439,\n",
              "       14421.442], dtype=float32)"
            ]
          },
          "metadata": {
            "tags": []
          },
          "execution_count": 288
        }
      ]
    },
    {
      "cell_type": "code",
      "metadata": {
        "id": "grmMUkiQOvIV",
        "colab_type": "code",
        "outputId": "52d1e0fe-7d53-4cef-9e64-8cf7add42e3e",
        "colab": {
          "base_uri": "https://localhost:8080/",
          "height": 34
        }
      },
      "source": [
        "Y_train.shape"
      ],
      "execution_count": 0,
      "outputs": [
        {
          "output_type": "execute_result",
          "data": {
            "text/plain": [
              "(2921, 1)"
            ]
          },
          "metadata": {
            "tags": []
          },
          "execution_count": 286
        }
      ]
    },
    {
      "cell_type": "code",
      "metadata": {
        "id": "-Rf5YUFQPjg7",
        "colab_type": "code",
        "outputId": "7c9028a4-5e9d-4c4c-fb31-1581e5cd9a7f",
        "colab": {
          "base_uri": "https://localhost:8080/",
          "height": 50
        }
      },
      "source": [
        "Y_train[:,0]"
      ],
      "execution_count": 0,
      "outputs": [
        {
          "output_type": "execute_result",
          "data": {
            "text/plain": [
              "array([13577.5912, 13596.41  , 13483.4972, ..., 14919.1028, 16790.2292,\n",
              "       13892.134 ])"
            ]
          },
          "metadata": {
            "tags": []
          },
          "execution_count": 289
        }
      ]
    },
    {
      "cell_type": "code",
      "metadata": {
        "id": "hjuVEAgONwvp",
        "colab_type": "code",
        "outputId": "620a238a-f486-4b25-a90f-51e86135bc96",
        "colab": {
          "base_uri": "https://localhost:8080/",
          "height": 269
        }
      },
      "source": [
        "plt.plot(X[:2921,0],X[:2921,3],marker='.',label='actual')\n",
        "plt.plot(X[:2921,0],train_predict[:,0],'r',label='prediction')\n",
        "plt.show()"
      ],
      "execution_count": 343,
      "outputs": [
        {
          "output_type": "display_data",
          "data": {
            "image/png": "[encoded data removed]",
            "text/plain": [
              "<Figure size 432x288 with 1 Axes>"
            ]
          },
          "metadata": {
            "tags": []
          }
        }
      ]
    },
    {
      "cell_type": "code",
      "metadata": {
        "id": "TlzmCaCvUYSp",
        "colab_type": "code",
        "colab": {}
      },
      "source": [
        "scaler_temp=MinMaxScaler()"
      ],
      "execution_count": 0,
      "outputs": []
    },
    {
      "cell_type": "code",
      "metadata": {
        "id": "BKtsPw4-X8B8",
        "colab_type": "code",
        "colab": {}
      },
      "source": [
        "from sklearn.preprocessing import MinMaxScaler\n",
        "sca=MinMaxScaler()\n",
        "sca2=MinMaxScaler()\n",
        "data2=[[1,2,3,4]]\n",
        "data=[[-1,2],[-0.5,6],[0,10],[1,18]]\n",
        "# print(sca.fit(data))\n",
        "data=sca.fit_transform(data)"
      ],
      "execution_count": 0,
      "outputs": []
    },
    {
      "cell_type": "code",
      "metadata": {
        "id": "iIENAx3HYek8",
        "colab_type": "code",
        "outputId": "176e77e5-59e6-408b-cc50-5c68da5c743f",
        "colab": {
          "base_uri": "https://localhost:8080/",
          "height": 84
        }
      },
      "source": [
        "sca.inverse_transform(data)"
      ],
      "execution_count": 0,
      "outputs": [
        {
          "output_type": "execute_result",
          "data": {
            "text/plain": [
              "array([[-1. ,  2. ],\n",
              "       [-0.5,  6. ],\n",
              "       [ 0. , 10. ],\n",
              "       [ 1. , 18. ]])"
            ]
          },
          "metadata": {
            "tags": []
          },
          "execution_count": 11
        }
      ]
    },
    {
      "cell_type": "code",
      "metadata": {
        "id": "bj7EHp3VYk1c",
        "colab_type": "code",
        "outputId": "4e966597-93df-41d7-bb61-c0f104e87bf9",
        "colab": {
          "base_uri": "https://localhost:8080/",
          "height": 162
        }
      },
      "source": [
        ""
      ],
      "execution_count": 0,
      "outputs": [
        {
          "output_type": "error",
          "ename": "AttributeError",
          "evalue": "ignored",
          "traceback": [
            "\u001b[0;31m---------------------------------------------------------------------------\u001b[0m",
            "\u001b[0;31mAttributeError\u001b[0m                            Traceback (most recent call last)",
            "\u001b[0;32m<ipython-input-3-bd2ee59db57b>\u001b[0m in \u001b[0;36m<module>\u001b[0;34m()\u001b[0m\n\u001b[0;32m----> 1\u001b[0;31m \u001b[0msca\u001b[0m\u001b[0;34m.\u001b[0m\u001b[0mtransfom\u001b[0m\u001b[0;34m(\u001b[0m\u001b[0mdata\u001b[0m\u001b[0;34m)\u001b[0m\u001b[0;34m\u001b[0m\u001b[0;34m\u001b[0m\u001b[0m\n\u001b[0m",
            "\u001b[0;31mAttributeError\u001b[0m: 'MinMaxScaler' object has no attribute 'transfom'"
          ]
        }
      ]
    },
    {
      "cell_type": "code",
      "metadata": {
        "id": "M-bdYdSoYzEf",
        "colab_type": "code",
        "colab": {}
      },
      "source": [
        ""
      ],
      "execution_count": 0,
      "outputs": []
    }
  ]
}